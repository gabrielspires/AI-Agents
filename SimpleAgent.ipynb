{
 "cells": [
  {
   "cell_type": "code",
   "execution_count": null,
   "id": "f672c16f",
   "metadata": {},
   "outputs": [],
   "source": [
    "%pip install -q --upgrade langchain langgraph langchain_openai langchain_core langgraph python-dotenv"
   ]
  },
  {
   "cell_type": "markdown",
   "id": "2216c21b",
   "metadata": {},
   "source": [
    "#### Exemplo de agente simples criado usando LangGraph, LangChain e o modelo Llama-4 chamado via OpenRouter"
   ]
  },
  {
   "cell_type": "markdown",
   "id": "8ff4b297",
   "metadata": {},
   "source": [
    "Cria o nosso LLM usando o modelo escolhido"
   ]
  },
  {
   "cell_type": "code",
   "execution_count": null,
   "id": "ca2161de",
   "metadata": {},
   "outputs": [],
   "source": [
    "import os\n",
    "from typing import Optional\n",
    "\n",
    "from dotenv import load_dotenv\n",
    "from langchain_core.utils.utils import secret_from_env\n",
    "from langchain_openai import ChatOpenAI\n",
    "from pydantic import Field, SecretStr\n",
    "\n",
    "load_dotenv()\n",
    "\n",
    "\n",
    "class ChatOpenRouter(ChatOpenAI):\n",
    "    openai_api_key: Optional[SecretStr] = Field(\n",
    "        alias=\"api_key\", default_factory=secret_from_env(\"OPENROUTER_API_KEY\", default=None)\n",
    "    )\n",
    "\n",
    "    @property\n",
    "    def lc_secrets(self) -> dict[str, str]:\n",
    "        return {\"openai_api_key\": \"OPENROUTER_API_KEY\"}\n",
    "\n",
    "    def __init__(self, openai_api_key: Optional[str] = None, **kwargs):\n",
    "        openai_api_key = openai_api_key or os.environ.get(\"OPENROUTER_API_KEY\")\n",
    "        super().__init__(base_url=\"https://openrouter.ai/api/v1\", openai_api_key=openai_api_key, **kwargs)\n",
    "\n",
    "\n",
    "llm = ChatOpenRouter(model_name=\"meta-llama/llama-4-maverick:free\")"
   ]
  },
  {
   "cell_type": "markdown",
   "id": "fb1a5238",
   "metadata": {},
   "source": [
    "Define a função que será o node principal do nosso assistente e a mensagem que da o contexto que o agente deve seguir"
   ]
  },
  {
   "cell_type": "code",
   "execution_count": null,
   "id": "314c2462",
   "metadata": {},
   "outputs": [],
   "source": [
    "from langchain_core.messages import HumanMessage, SystemMessage\n",
    "from langgraph.graph import MessagesState\n",
    "\n",
    "sys_msg = SystemMessage(content=\"You are a helpful assistant to respond to general purpose queries.\")\n",
    "\n",
    "\n",
    "def assistant(state: MessagesState):\n",
    "    return {\"messages\": [llm.invoke([sys_msg] + state[\"messages\"])]}"
   ]
  },
  {
   "cell_type": "markdown",
   "id": "eebdad3d",
   "metadata": {},
   "source": [
    "Cria o grafo que representa o comportamento do nosso agente, adicionando os estados iniciais e finais ligados ao node do agente"
   ]
  },
  {
   "cell_type": "code",
   "execution_count": null,
   "id": "a277947c",
   "metadata": {},
   "outputs": [],
   "source": [
    "from IPython.display import Image\n",
    "from langgraph.graph import END, START, StateGraph\n",
    "\n",
    "builder = StateGraph(MessagesState)\n",
    "\n",
    "builder.add_node(\"assistant\", assistant)\n",
    "\n",
    "builder.add_edge(START, \"assistant\")\n",
    "builder.add_edge(\"assistant\", END)\n",
    "\n",
    "react_graph = builder.compile()\n",
    "\n",
    "display(Image(react_graph.get_graph(xray=True).draw_mermaid_png()))"
   ]
  },
  {
   "cell_type": "code",
   "execution_count": null,
   "id": "d430309a",
   "metadata": {},
   "outputs": [],
   "source": [
    "messages = [HumanMessage(content=\"Tell me, what is the smallest planet in the solar system?\")]\n",
    "messages = react_graph.invoke({\"messages\": messages})\n",
    "\n",
    "for m in messages[\"messages\"]:\n",
    "    m.pretty_print()"
   ]
  }
 ],
 "metadata": {
  "kernelspec": {
   "display_name": "ai",
   "language": "python",
   "name": "python3"
  },
  "language_info": {
   "codemirror_mode": {
    "name": "ipython",
    "version": 3
   },
   "file_extension": ".py",
   "mimetype": "text/x-python",
   "name": "python",
   "nbconvert_exporter": "python",
   "pygments_lexer": "ipython3",
   "version": "3.13.2"
  }
 },
 "nbformat": 4,
 "nbformat_minor": 5
}
